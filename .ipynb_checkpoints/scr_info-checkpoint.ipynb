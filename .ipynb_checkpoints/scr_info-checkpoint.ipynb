{
 "cells": [
  {
   "cell_type": "code",
   "execution_count": 1,
   "metadata": {},
   "outputs": [],
   "source": [
    "import pandas as pd"
   ]
  },
  {
   "cell_type": "code",
   "execution_count": 8,
   "metadata": {},
   "outputs": [],
   "source": [
    "man_df = pd.read_html('https://www.8a.nu/pl/ranking/sportclimbing')[0]"
   ]
  },
  {
   "cell_type": "code",
   "execution_count": 9,
   "metadata": {},
   "outputs": [
    {
     "data": {
      "text/plain": [
       "pandas.core.frame.DataFrame"
      ]
     },
     "execution_count": 9,
     "metadata": {},
     "output_type": "execute_result"
    }
   ],
   "source": [
    "type(man_df)"
   ]
  },
  {
   "cell_type": "code",
   "execution_count": 11,
   "metadata": {},
   "outputs": [],
   "source": [
    "man_df.to_csv('man_8a_df.csv')"
   ]
  },
  {
   "cell_type": "code",
   "execution_count": 12,
   "metadata": {},
   "outputs": [],
   "source": [
    "ao = pd.read_html(\"https://www.8a.nu/pl/user/adam-ondra/sportclimbing\")"
   ]
  },
  {
   "cell_type": "code",
   "execution_count": 13,
   "metadata": {},
   "outputs": [
    {
     "data": {
      "text/plain": [
       "[                0       1        2              3            4  \\\n",
       " 0               Â   SCORE  ASCENTS  AVERAGE GRADE   WORLD RANK   \n",
       " 1  LAST 12 MONTHS  13 308       34            8b+   2  (8 498)   \n",
       " 2        ALL TIME  14 850    1 646             8b  1  (30 561)   \n",
       " \n",
       "                                5  \n",
       " 0  COUNTRY RANK (Czech Republic)  \n",
       " 1                        1  (36)  \n",
       " 2                       1  (191)  ,\n",
       "    Unnamed: 0  NAME  CRAG  DATE  NOTES  RATING\n",
       " 0         NaN  NAME  CRAG  DATE  NOTES  RATING]"
      ]
     },
     "execution_count": 13,
     "metadata": {},
     "output_type": "execute_result"
    }
   ],
   "source": [
    "ao\n"
   ]
  }
 ],
 "metadata": {
  "kernelspec": {
   "display_name": "Python 3",
   "language": "python",
   "name": "python3"
  },
  "language_info": {
   "codemirror_mode": {
    "name": "ipython",
    "version": 3
   },
   "file_extension": ".py",
   "mimetype": "text/x-python",
   "name": "python",
   "nbconvert_exporter": "python",
   "pygments_lexer": "ipython3",
   "version": "3.7.2"
  }
 },
 "nbformat": 4,
 "nbformat_minor": 4
}
